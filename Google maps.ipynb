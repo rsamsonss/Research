{
 "cells": [
  {
   "cell_type": "code",
   "execution_count": 3,
   "metadata": {},
   "outputs": [],
   "source": [
    "import googlemaps\n",
    "from datetime import datetime\n",
    "import time\n",
    "\n",
    "import requests\n",
    "import json"
   ]
  },
  {
   "cell_type": "code",
   "execution_count": 4,
   "metadata": {},
   "outputs": [],
   "source": [
    "class GooglePlaces(object):\n",
    "    def __init__(self, apiKey):\n",
    "        super(GooglePlaces, self).__init__()\n",
    "        self.apiKey = apiKey\n",
    " \n",
    "    def search_places_by_coordinate(self, location, radius, types):\n",
    "        endpoint_url = \"https://maps.googleapis.com/maps/api/place/nearbysearch/json\"\n",
    "        places = []\n",
    "        params = {\n",
    "            'location': location,\n",
    "            'radius': radius,\n",
    "            'types': types,\n",
    "            'key': self.apiKey\n",
    "        }\n",
    "        res = requests.get(endpoint_url, params = params)\n",
    "        results =  json.loads(res.content)\n",
    "        places.extend(results['results'])\n",
    "        time.sleep(2)\n",
    "        while \"next_page_token\" in results:\n",
    "            params['pagetoken'] = results['next_page_token'],\n",
    "            res = requests.get(endpoint_url, params = params)\n",
    "            results = json.loads(res.content)\n",
    "            places.extend(results['results'])\n",
    "            time.sleep(2)\n",
    "        return places\n",
    " \n",
    "    def get_place_details(self, place_id, fields):\n",
    "        endpoint_url = \"https://maps.googleapis.com/maps/api/place/details/json\"\n",
    "        params = {\n",
    "            'placeid': place_id,\n",
    "            'fields': \",\".join(fields),\n",
    "            'key': self.apiKey\n",
    "        }\n",
    "        res = requests.get(endpoint_url, params = params)\n",
    "        place_details =  json.loads(res.content)\n",
    "        return place_details\n",
    " "
   ]
  },
  {
   "cell_type": "code",
   "execution_count": 5,
   "metadata": {},
   "outputs": [],
   "source": [
    "api = GooglePlaces(\"APIkey\")"
   ]
  },
  {
   "cell_type": "code",
   "execution_count": 6,
   "metadata": {},
   "outputs": [],
   "source": [
    "places = api.search_places_by_coordinate(\"28.134570,-15.432825\", \"100\", \"restaurant\")"
   ]
  },
  {
   "cell_type": "code",
   "execution_count": 7,
   "metadata": {},
   "outputs": [],
   "source": [
    "fields = ['name', 'formatted_address', 'international_phone_number', 'website', 'rating', 'review']"
   ]
  },
  {
   "cell_type": "code",
   "execution_count": 8,
   "metadata": {},
   "outputs": [],
   "source": [
    "for place in places:\n",
    "    details = api.get_place_details(place['place_id'], fields)"
   ]
  },
  {
   "cell_type": "code",
   "execution_count": 9,
   "metadata": {},
   "outputs": [
    {
     "name": "stdout",
     "output_type": "stream",
     "text": [
      "===================PLACE===================\n",
      "Name: \n",
      "Website: \n",
      "Address: \n",
      "Phone Number \n",
      "==================REVIEWS==================\n",
      "===================PLACE===================\n",
      "Name: \n",
      "Website: \n",
      "Address: \n",
      "Phone Number \n",
      "==================REVIEWS==================\n",
      "===================PLACE===================\n",
      "Name: \n",
      "Website: \n",
      "Address: \n",
      "Phone Number \n",
      "==================REVIEWS==================\n",
      "===================PLACE===================\n",
      "Name: \n",
      "Website: \n",
      "Address: \n",
      "Phone Number \n",
      "==================REVIEWS==================\n"
     ]
    }
   ],
   "source": [
    "for place in places:\n",
    "    details = api.get_place_details(place['place_id'], fields)\n",
    "    try:\n",
    "        website = details['result']['website']\n",
    "    except KeyError:\n",
    "        website = \"\"\n",
    " \n",
    "    try:\n",
    "        name = details['result']['name']\n",
    "    except KeyError:\n",
    "        name = \"\"\n",
    " \n",
    "    try:\n",
    "        address = details['result']['formatted_address']\n",
    "    except KeyError:\n",
    "        address = \"\"\n",
    " \n",
    "    try:\n",
    "        phone_number = details['result']['international_phone_number']\n",
    "    except KeyError:\n",
    "        phone_number = \"\"\n",
    " \n",
    "    try:\n",
    "        reviews = details['result']['reviews']\n",
    "    except KeyError:\n",
    "        reviews = []\n",
    "    print(\"===================PLACE===================\")\n",
    "    print(\"Name:\", name)\n",
    "    print(\"Website:\", website)\n",
    "    print(\"Address:\", address)\n",
    "    print(\"Phone Number\", phone_number)\n",
    "    print(\"==================REVIEWS==================\")\n",
    "    for review in reviews:\n",
    "        author_name = review['author_name']\n",
    "        rating = review['rating']\n",
    "        text = review['text']\n",
    "        time = review['relative_time_description']\n",
    "        profile_photo = review['profile_photo_url']\n",
    "        print(\"Author Name:\", author_name)\n",
    "        print(\"Rating:\", rating)\n",
    "        print(\"Text:\", text)\n",
    "        print(\"Time:\", time)\n",
    "        print(\"Profile photo:\", profile_photo)\n",
    "        print(\"-----------------------------------------\")"
   ]
  },
  {
   "cell_type": "code",
   "execution_count": 11,
   "metadata": {},
   "outputs": [
    {
     "data": {
      "text/plain": [
       "{'error_message': 'You have exceeded your daily request quota for this API. If you did not set a custom daily request quota, verify your project has an active billing account: http://g.co/dev/maps-no-account',\n",
       " 'html_attributions': [],\n",
       " 'status': 'OVER_QUERY_LIMIT'}"
      ]
     },
     "execution_count": 11,
     "metadata": {},
     "output_type": "execute_result"
    }
   ],
   "source": [
    "details"
   ]
  },
  {
   "cell_type": "code",
   "execution_count": null,
   "metadata": {},
   "outputs": [],
   "source": []
  }
 ],
 "metadata": {
  "kernelspec": {
   "display_name": "Python 3",
   "language": "python",
   "name": "python3"
  },
  "language_info": {
   "codemirror_mode": {
    "name": "ipython",
    "version": 3
   },
   "file_extension": ".py",
   "mimetype": "text/x-python",
   "name": "python",
   "nbconvert_exporter": "python",
   "pygments_lexer": "ipython3",
   "version": "3.6.5"
  }
 },
 "nbformat": 4,
 "nbformat_minor": 2
}
